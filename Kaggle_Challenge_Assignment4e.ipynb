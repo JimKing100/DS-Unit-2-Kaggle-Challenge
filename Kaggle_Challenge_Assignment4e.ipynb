{
  "nbformat": 4,
  "nbformat_minor": 0,
  "metadata": {
    "colab": {
      "name": "Untitled22.ipynb",
      "provenance": [],
      "machine_shape": "hm",
      "include_colab_link": true
    },
    "kernelspec": {
      "name": "python3",
      "display_name": "Python 3"
    },
    "accelerator": "GPU"
  },
  "cells": [
    {
      "cell_type": "markdown",
      "metadata": {
        "id": "view-in-github",
        "colab_type": "text"
      },
      "source": [
        "<a href=\"https://colab.research.google.com/github/JimKing100/DS-Unit-2-Kaggle-Challenge/blob/master/Kaggle_Challenge_Assignment4e.ipynb\" target=\"_parent\"><img src=\"https://colab.research.google.com/assets/colab-badge.svg\" alt=\"Open In Colab\"/></a>"
      ]
    },
    {
      "cell_type": "code",
      "metadata": {
        "id": "MJVb6fS7521u",
        "colab_type": "code",
        "colab": {}
      },
      "source": [
        "# Installs\n",
        "%%capture\n",
        "!pip install --upgrade category_encoders plotly"
      ],
      "execution_count": 0,
      "outputs": []
    },
    {
      "cell_type": "code",
      "metadata": {
        "id": "WC18XNwu6uVK",
        "colab_type": "code",
        "outputId": "ec3e5c7a-4d60-46ad-bdc5-3134e1c27ce0",
        "colab": {
          "base_uri": "https://localhost:8080/",
          "height": 1000
        }
      },
      "source": [
        "# Imports\n",
        "import os, sys\n",
        "\n",
        "os.chdir('/content')\n",
        "!git init .\n",
        "!git remote add origin https://github.com/LambdaSchool/DS-Unit-2-Kaggle-Challenge.git\n",
        "!git pull origin master\n",
        "\n",
        "!pip install -r requirements.txt\n",
        "\n",
        "os.chdir('module1')"
      ],
      "execution_count": 93,
      "outputs": [
        {
          "output_type": "stream",
          "text": [
            "Reinitialized existing Git repository in /content/.git/\n",
            "fatal: remote origin already exists.\n",
            "From https://github.com/LambdaSchool/DS-Unit-2-Kaggle-Challenge\n",
            " * branch            master     -> FETCH_HEAD\n",
            "Already up to date.\n",
            "Requirement already satisfied: category_encoders==2.0.0 in /usr/local/lib/python3.6/dist-packages (from -r requirements.txt (line 1)) (2.0.0)\n",
            "Requirement already satisfied: eli5==0.10.1 in /usr/local/lib/python3.6/dist-packages (from -r requirements.txt (line 2)) (0.10.1)\n",
            "Requirement already satisfied: matplotlib!=3.1.1 in /usr/local/lib/python3.6/dist-packages (from -r requirements.txt (line 3)) (3.0.3)\n",
            "Requirement already satisfied: pandas-profiling==2.3.0 in /usr/local/lib/python3.6/dist-packages (from -r requirements.txt (line 4)) (2.3.0)\n",
            "Requirement already satisfied: pdpbox==0.2.0 in /usr/local/lib/python3.6/dist-packages (from -r requirements.txt (line 5)) (0.2.0)\n",
            "Requirement already satisfied: plotly==4.1.1 in /usr/local/lib/python3.6/dist-packages (from -r requirements.txt (line 6)) (4.1.1)\n",
            "Requirement already satisfied: seaborn==0.9.0 in /usr/local/lib/python3.6/dist-packages (from -r requirements.txt (line 7)) (0.9.0)\n",
            "Requirement already satisfied: scikit-learn==0.21.3 in /usr/local/lib/python3.6/dist-packages (from -r requirements.txt (line 8)) (0.21.3)\n",
            "Requirement already satisfied: shap==0.30.0 in /usr/local/lib/python3.6/dist-packages (from -r requirements.txt (line 9)) (0.30.0)\n",
            "Requirement already satisfied: xgboost==0.90 in /usr/local/lib/python3.6/dist-packages (from -r requirements.txt (line 10)) (0.90)\n",
            "Requirement already satisfied: scipy>=0.19.0 in /usr/local/lib/python3.6/dist-packages (from category_encoders==2.0.0->-r requirements.txt (line 1)) (1.3.1)\n",
            "Requirement already satisfied: patsy>=0.4.1 in /usr/local/lib/python3.6/dist-packages (from category_encoders==2.0.0->-r requirements.txt (line 1)) (0.5.1)\n",
            "Requirement already satisfied: statsmodels>=0.6.1 in /usr/local/lib/python3.6/dist-packages (from category_encoders==2.0.0->-r requirements.txt (line 1)) (0.10.1)\n",
            "Requirement already satisfied: numpy>=1.11.3 in /usr/local/lib/python3.6/dist-packages (from category_encoders==2.0.0->-r requirements.txt (line 1)) (1.16.5)\n",
            "Requirement already satisfied: pandas>=0.21.1 in /usr/local/lib/python3.6/dist-packages (from category_encoders==2.0.0->-r requirements.txt (line 1)) (0.24.2)\n",
            "Requirement already satisfied: jinja2 in /usr/local/lib/python3.6/dist-packages (from eli5==0.10.1->-r requirements.txt (line 2)) (2.10.1)\n",
            "Requirement already satisfied: tabulate>=0.7.7 in /usr/local/lib/python3.6/dist-packages (from eli5==0.10.1->-r requirements.txt (line 2)) (0.8.3)\n",
            "Requirement already satisfied: graphviz in /usr/local/lib/python3.6/dist-packages (from eli5==0.10.1->-r requirements.txt (line 2)) (0.10.1)\n",
            "Requirement already satisfied: six in /usr/local/lib/python3.6/dist-packages (from eli5==0.10.1->-r requirements.txt (line 2)) (1.12.0)\n",
            "Requirement already satisfied: attrs>16.0.0 in /usr/local/lib/python3.6/dist-packages (from eli5==0.10.1->-r requirements.txt (line 2)) (19.1.0)\n",
            "Requirement already satisfied: pyparsing!=2.0.4,!=2.1.2,!=2.1.6,>=2.0.1 in /usr/local/lib/python3.6/dist-packages (from matplotlib!=3.1.1->-r requirements.txt (line 3)) (2.4.2)\n",
            "Requirement already satisfied: kiwisolver>=1.0.1 in /usr/local/lib/python3.6/dist-packages (from matplotlib!=3.1.1->-r requirements.txt (line 3)) (1.1.0)\n",
            "Requirement already satisfied: python-dateutil>=2.1 in /usr/local/lib/python3.6/dist-packages (from matplotlib!=3.1.1->-r requirements.txt (line 3)) (2.5.3)\n",
            "Requirement already satisfied: cycler>=0.10 in /usr/local/lib/python3.6/dist-packages (from matplotlib!=3.1.1->-r requirements.txt (line 3)) (0.10.0)\n",
            "Requirement already satisfied: missingno>=0.4.2 in /usr/local/lib/python3.6/dist-packages (from pandas-profiling==2.3.0->-r requirements.txt (line 4)) (0.4.2)\n",
            "Requirement already satisfied: confuse>=1.0.0 in /usr/local/lib/python3.6/dist-packages (from pandas-profiling==2.3.0->-r requirements.txt (line 4)) (1.0.0)\n",
            "Requirement already satisfied: astropy in /usr/local/lib/python3.6/dist-packages (from pandas-profiling==2.3.0->-r requirements.txt (line 4)) (3.0.5)\n",
            "Requirement already satisfied: htmlmin>=0.1.12 in /usr/local/lib/python3.6/dist-packages (from pandas-profiling==2.3.0->-r requirements.txt (line 4)) (0.1.12)\n",
            "Requirement already satisfied: phik>=0.9.8 in /usr/local/lib/python3.6/dist-packages (from pandas-profiling==2.3.0->-r requirements.txt (line 4)) (0.9.8)\n",
            "Requirement already satisfied: psutil in /usr/local/lib/python3.6/dist-packages (from pdpbox==0.2.0->-r requirements.txt (line 5)) (5.4.8)\n",
            "Requirement already satisfied: joblib in /usr/local/lib/python3.6/dist-packages (from pdpbox==0.2.0->-r requirements.txt (line 5)) (0.13.2)\n",
            "Requirement already satisfied: retrying>=1.3.3 in /usr/local/lib/python3.6/dist-packages (from plotly==4.1.1->-r requirements.txt (line 6)) (1.3.3)\n",
            "Requirement already satisfied: scikit-image in /usr/local/lib/python3.6/dist-packages (from shap==0.30.0->-r requirements.txt (line 9)) (0.15.0)\n",
            "Requirement already satisfied: tqdm>4.25.0 in /usr/local/lib/python3.6/dist-packages (from shap==0.30.0->-r requirements.txt (line 9)) (4.28.1)\n",
            "Requirement already satisfied: ipython in /usr/local/lib/python3.6/dist-packages (from shap==0.30.0->-r requirements.txt (line 9)) (5.5.0)\n",
            "Requirement already satisfied: pytz>=2011k in /usr/local/lib/python3.6/dist-packages (from pandas>=0.21.1->category_encoders==2.0.0->-r requirements.txt (line 1)) (2018.9)\n",
            "Requirement already satisfied: MarkupSafe>=0.23 in /usr/local/lib/python3.6/dist-packages (from jinja2->eli5==0.10.1->-r requirements.txt (line 2)) (1.1.1)\n",
            "Requirement already satisfied: setuptools in /usr/local/lib/python3.6/dist-packages (from kiwisolver>=1.0.1->matplotlib!=3.1.1->-r requirements.txt (line 3)) (41.2.0)\n",
            "Requirement already satisfied: pyyaml in /usr/local/lib/python3.6/dist-packages (from confuse>=1.0.0->pandas-profiling==2.3.0->-r requirements.txt (line 4)) (3.13)\n",
            "Requirement already satisfied: nbconvert>=5.3.1 in /usr/local/lib/python3.6/dist-packages (from phik>=0.9.8->pandas-profiling==2.3.0->-r requirements.txt (line 4)) (5.6.0)\n",
            "Requirement already satisfied: jupyter-client>=5.2.3 in /usr/local/lib/python3.6/dist-packages (from phik>=0.9.8->pandas-profiling==2.3.0->-r requirements.txt (line 4)) (5.3.1)\n",
            "Requirement already satisfied: pytest>=4.0.2 in /usr/local/lib/python3.6/dist-packages (from phik>=0.9.8->pandas-profiling==2.3.0->-r requirements.txt (line 4)) (5.1.2)\n",
            "Requirement already satisfied: pytest-pylint>=0.13.0 in /usr/local/lib/python3.6/dist-packages (from phik>=0.9.8->pandas-profiling==2.3.0->-r requirements.txt (line 4)) (0.14.1)\n",
            "Requirement already satisfied: numba>=0.38.1 in /usr/local/lib/python3.6/dist-packages (from phik>=0.9.8->pandas-profiling==2.3.0->-r requirements.txt (line 4)) (0.40.1)\n",
            "Requirement already satisfied: imageio>=2.0.1 in /usr/local/lib/python3.6/dist-packages (from scikit-image->shap==0.30.0->-r requirements.txt (line 9)) (2.4.1)\n",
            "Requirement already satisfied: PyWavelets>=0.4.0 in /usr/local/lib/python3.6/dist-packages (from scikit-image->shap==0.30.0->-r requirements.txt (line 9)) (1.0.3)\n",
            "Requirement already satisfied: networkx>=2.0 in /usr/local/lib/python3.6/dist-packages (from scikit-image->shap==0.30.0->-r requirements.txt (line 9)) (2.3)\n",
            "Requirement already satisfied: pillow>=4.3.0 in /usr/local/lib/python3.6/dist-packages (from scikit-image->shap==0.30.0->-r requirements.txt (line 9)) (4.3.0)\n",
            "Requirement already satisfied: decorator in /usr/local/lib/python3.6/dist-packages (from ipython->shap==0.30.0->-r requirements.txt (line 9)) (4.4.0)\n",
            "Requirement already satisfied: prompt-toolkit<2.0.0,>=1.0.4 in /usr/local/lib/python3.6/dist-packages (from ipython->shap==0.30.0->-r requirements.txt (line 9)) (1.0.16)\n",
            "Requirement already satisfied: simplegeneric>0.8 in /usr/local/lib/python3.6/dist-packages (from ipython->shap==0.30.0->-r requirements.txt (line 9)) (0.8.1)\n",
            "Requirement already satisfied: traitlets>=4.2 in /usr/local/lib/python3.6/dist-packages (from ipython->shap==0.30.0->-r requirements.txt (line 9)) (4.3.2)\n",
            "Requirement already satisfied: pickleshare in /usr/local/lib/python3.6/dist-packages (from ipython->shap==0.30.0->-r requirements.txt (line 9)) (0.7.5)\n",
            "Requirement already satisfied: pygments in /usr/local/lib/python3.6/dist-packages (from ipython->shap==0.30.0->-r requirements.txt (line 9)) (2.1.3)\n",
            "Requirement already satisfied: pexpect; sys_platform != \"win32\" in /usr/local/lib/python3.6/dist-packages (from ipython->shap==0.30.0->-r requirements.txt (line 9)) (4.7.0)\n",
            "Requirement already satisfied: bleach in /usr/local/lib/python3.6/dist-packages (from nbconvert>=5.3.1->phik>=0.9.8->pandas-profiling==2.3.0->-r requirements.txt (line 4)) (3.1.0)\n",
            "Requirement already satisfied: testpath in /usr/local/lib/python3.6/dist-packages (from nbconvert>=5.3.1->phik>=0.9.8->pandas-profiling==2.3.0->-r requirements.txt (line 4)) (0.4.2)\n",
            "Requirement already satisfied: mistune<2,>=0.8.1 in /usr/local/lib/python3.6/dist-packages (from nbconvert>=5.3.1->phik>=0.9.8->pandas-profiling==2.3.0->-r requirements.txt (line 4)) (0.8.4)\n",
            "Requirement already satisfied: pandocfilters>=1.4.1 in /usr/local/lib/python3.6/dist-packages (from nbconvert>=5.3.1->phik>=0.9.8->pandas-profiling==2.3.0->-r requirements.txt (line 4)) (1.4.2)\n",
            "Requirement already satisfied: defusedxml in /usr/local/lib/python3.6/dist-packages (from nbconvert>=5.3.1->phik>=0.9.8->pandas-profiling==2.3.0->-r requirements.txt (line 4)) (0.6.0)\n",
            "Requirement already satisfied: nbformat>=4.4 in /usr/local/lib/python3.6/dist-packages (from nbconvert>=5.3.1->phik>=0.9.8->pandas-profiling==2.3.0->-r requirements.txt (line 4)) (4.4.0)\n",
            "Requirement already satisfied: jupyter-core in /usr/local/lib/python3.6/dist-packages (from nbconvert>=5.3.1->phik>=0.9.8->pandas-profiling==2.3.0->-r requirements.txt (line 4)) (4.5.0)\n",
            "Requirement already satisfied: entrypoints>=0.2.2 in /usr/local/lib/python3.6/dist-packages (from nbconvert>=5.3.1->phik>=0.9.8->pandas-profiling==2.3.0->-r requirements.txt (line 4)) (0.3)\n",
            "Requirement already satisfied: tornado>=4.1 in /usr/local/lib/python3.6/dist-packages (from jupyter-client>=5.2.3->phik>=0.9.8->pandas-profiling==2.3.0->-r requirements.txt (line 4)) (4.5.3)\n",
            "Requirement already satisfied: pyzmq>=13 in /usr/local/lib/python3.6/dist-packages (from jupyter-client>=5.2.3->phik>=0.9.8->pandas-profiling==2.3.0->-r requirements.txt (line 4)) (17.0.0)\n",
            "Requirement already satisfied: wcwidth in /usr/local/lib/python3.6/dist-packages (from pytest>=4.0.2->phik>=0.9.8->pandas-profiling==2.3.0->-r requirements.txt (line 4)) (0.1.7)\n",
            "Requirement already satisfied: more-itertools>=4.0.0 in /usr/local/lib/python3.6/dist-packages (from pytest>=4.0.2->phik>=0.9.8->pandas-profiling==2.3.0->-r requirements.txt (line 4)) (7.2.0)\n",
            "Requirement already satisfied: importlib-metadata>=0.12; python_version < \"3.8\" in /usr/local/lib/python3.6/dist-packages (from pytest>=4.0.2->phik>=0.9.8->pandas-profiling==2.3.0->-r requirements.txt (line 4)) (0.23)\n",
            "Requirement already satisfied: pluggy<1.0,>=0.12 in /usr/local/lib/python3.6/dist-packages (from pytest>=4.0.2->phik>=0.9.8->pandas-profiling==2.3.0->-r requirements.txt (line 4)) (0.13.0)\n",
            "Requirement already satisfied: packaging in /usr/local/lib/python3.6/dist-packages (from pytest>=4.0.2->phik>=0.9.8->pandas-profiling==2.3.0->-r requirements.txt (line 4)) (19.1)\n",
            "Requirement already satisfied: atomicwrites>=1.0 in /usr/local/lib/python3.6/dist-packages (from pytest>=4.0.2->phik>=0.9.8->pandas-profiling==2.3.0->-r requirements.txt (line 4)) (1.3.0)\n",
            "Requirement already satisfied: py>=1.5.0 in /usr/local/lib/python3.6/dist-packages (from pytest>=4.0.2->phik>=0.9.8->pandas-profiling==2.3.0->-r requirements.txt (line 4)) (1.8.0)\n",
            "Requirement already satisfied: pylint>=1.4.5 in /usr/local/lib/python3.6/dist-packages (from pytest-pylint>=0.13.0->phik>=0.9.8->pandas-profiling==2.3.0->-r requirements.txt (line 4)) (2.3.1)\n",
            "Requirement already satisfied: llvmlite>=0.25.0dev0 in /usr/local/lib/python3.6/dist-packages (from numba>=0.38.1->phik>=0.9.8->pandas-profiling==2.3.0->-r requirements.txt (line 4)) (0.29.0)\n",
            "Requirement already satisfied: olefile in /usr/local/lib/python3.6/dist-packages (from pillow>=4.3.0->scikit-image->shap==0.30.0->-r requirements.txt (line 9)) (0.46)\n",
            "Requirement already satisfied: ipython-genutils in /usr/local/lib/python3.6/dist-packages (from traitlets>=4.2->ipython->shap==0.30.0->-r requirements.txt (line 9)) (0.2.0)\n",
            "Requirement already satisfied: ptyprocess>=0.5 in /usr/local/lib/python3.6/dist-packages (from pexpect; sys_platform != \"win32\"->ipython->shap==0.30.0->-r requirements.txt (line 9)) (0.6.0)\n",
            "Requirement already satisfied: webencodings in /usr/local/lib/python3.6/dist-packages (from bleach->nbconvert>=5.3.1->phik>=0.9.8->pandas-profiling==2.3.0->-r requirements.txt (line 4)) (0.5.1)\n",
            "Requirement already satisfied: jsonschema!=2.5.0,>=2.4 in /usr/local/lib/python3.6/dist-packages (from nbformat>=4.4->nbconvert>=5.3.1->phik>=0.9.8->pandas-profiling==2.3.0->-r requirements.txt (line 4)) (2.6.0)\n",
            "Requirement already satisfied: zipp>=0.5 in /usr/local/lib/python3.6/dist-packages (from importlib-metadata>=0.12; python_version < \"3.8\"->pytest>=4.0.2->phik>=0.9.8->pandas-profiling==2.3.0->-r requirements.txt (line 4)) (0.6.0)\n",
            "Requirement already satisfied: isort<5,>=4.2.5 in /usr/local/lib/python3.6/dist-packages (from pylint>=1.4.5->pytest-pylint>=0.13.0->phik>=0.9.8->pandas-profiling==2.3.0->-r requirements.txt (line 4)) (4.3.21)\n",
            "Requirement already satisfied: astroid<3,>=2.2.0 in /usr/local/lib/python3.6/dist-packages (from pylint>=1.4.5->pytest-pylint>=0.13.0->phik>=0.9.8->pandas-profiling==2.3.0->-r requirements.txt (line 4)) (2.2.5)\n",
            "Requirement already satisfied: mccabe<0.7,>=0.6 in /usr/local/lib/python3.6/dist-packages (from pylint>=1.4.5->pytest-pylint>=0.13.0->phik>=0.9.8->pandas-profiling==2.3.0->-r requirements.txt (line 4)) (0.6.1)\n",
            "Requirement already satisfied: lazy-object-proxy in /usr/local/lib/python3.6/dist-packages (from astroid<3,>=2.2.0->pylint>=1.4.5->pytest-pylint>=0.13.0->phik>=0.9.8->pandas-profiling==2.3.0->-r requirements.txt (line 4)) (1.4.2)\n",
            "Requirement already satisfied: wrapt in /usr/local/lib/python3.6/dist-packages (from astroid<3,>=2.2.0->pylint>=1.4.5->pytest-pylint>=0.13.0->phik>=0.9.8->pandas-profiling==2.3.0->-r requirements.txt (line 4)) (1.11.2)\n",
            "Requirement already satisfied: typed-ast>=1.3.0; implementation_name == \"cpython\" in /usr/local/lib/python3.6/dist-packages (from astroid<3,>=2.2.0->pylint>=1.4.5->pytest-pylint>=0.13.0->phik>=0.9.8->pandas-profiling==2.3.0->-r requirements.txt (line 4)) (1.4.0)\n"
          ],
          "name": "stdout"
        }
      ]
    },
    {
      "cell_type": "code",
      "metadata": {
        "id": "x7MRA9WvoSpp",
        "colab_type": "code",
        "colab": {}
      },
      "source": [
        "# Disable warning\n",
        "import warnings\n",
        "warnings.filterwarnings(action='ignore', category=FutureWarning, module='numpy')"
      ],
      "execution_count": 0,
      "outputs": []
    },
    {
      "cell_type": "code",
      "metadata": {
        "id": "T4O_RRn17vRQ",
        "colab_type": "code",
        "colab": {}
      },
      "source": [
        "# Imports\n",
        "import pandas as pd\n",
        "import numpy as np\n",
        "import math\n",
        "\n",
        "import sklearn\n",
        "sklearn.__version__\n",
        "\n",
        "# Import the models\n",
        "from sklearn.linear_model import LogisticRegressionCV\n",
        "from sklearn.pipeline import make_pipeline\n",
        "\n",
        "# Import encoder and scaler and imputer\n",
        "import category_encoders as ce\n",
        "from sklearn.preprocessing import StandardScaler\n",
        "from sklearn.impute import SimpleImputer\n",
        "\n",
        "# Import random forest classifier\n",
        "from sklearn.ensemble import RandomForestClassifier"
      ],
      "execution_count": 0,
      "outputs": []
    },
    {
      "cell_type": "code",
      "metadata": {
        "id": "bMfVT1-Z7F-b",
        "colab_type": "code",
        "outputId": "8590b21e-dc0b-4299-ecbc-f85589c47c0b",
        "colab": {
          "base_uri": "https://localhost:8080/",
          "height": 34
        }
      },
      "source": [
        "# Import, load data and split data into train, validate and test\n",
        "train_features = pd.read_csv('../data/tanzania/train_features.csv')\n",
        "train_labels = pd.read_csv('../data/tanzania/train_labels.csv')\n",
        "test_features = pd.read_csv('../data/tanzania/test_features.csv')\n",
        "sample_submission = pd.read_csv('../data/tanzania/sample_submission.csv')\n",
        "\n",
        "assert train_features.shape == (59400, 40)\n",
        "assert train_labels.shape == (59400, 2)\n",
        "assert test_features.shape == (14358, 40)\n",
        "assert sample_submission.shape == (14358, 2)\n",
        "\n",
        "# Load initial train features and labels\n",
        "from sklearn.model_selection import train_test_split\n",
        "X_train = train_features\n",
        "y_train = train_labels['status_group']\n",
        "\n",
        "# Split the initial train features and labels 80% into new train and new validation\n",
        "X_train, X_val, y_train, y_val = train_test_split(\n",
        "  X_train, y_train, train_size = 0.80, test_size = 0.20,\n",
        "  stratify = y_train, random_state=42\n",
        ")\n",
        "\n",
        "X_train.shape, X_val.shape, y_train.shape, y_val.shape"
      ],
      "execution_count": 96,
      "outputs": [
        {
          "output_type": "execute_result",
          "data": {
            "text/plain": [
              "((47520, 40), (11880, 40), (47520,), (11880,))"
            ]
          },
          "metadata": {
            "tags": []
          },
          "execution_count": 96
        }
      ]
    },
    {
      "cell_type": "code",
      "metadata": {
        "id": "x3pMJkj47Zfv",
        "colab_type": "code",
        "colab": {}
      },
      "source": [
        "# Wrangle train, validate, and test sets\n",
        "def wrangle(X):\n",
        "    \n",
        "    # Set bins value\n",
        "    bins=20\n",
        "    \n",
        "    # Prevent SettingWithCopyWarning\n",
        "    X = X.copy()\n",
        "    \n",
        "    # Clean installer\n",
        "    X['installer'] = X['installer'].str.lower()\n",
        "    X['installer'] = X['installer'].str.replace('danid', 'danida')\n",
        "    X['installer'] = X['installer'].str.replace('disti', 'district council')\n",
        "    X['installer'] = X['installer'].str.replace('commu', 'community')\n",
        "    X['installer'] = X['installer'].str.replace('central government', 'government')\n",
        "    X['installer'] = X['installer'].str.replace('kkkt _ konde and dwe', 'kkkt')\n",
        "    X['installer'].value_counts(normalize=True)\n",
        "    tops = X['installer'].value_counts()[:5].index\n",
        "    X.loc[~X['installer'].isin(tops), 'installer'] = 'Other'\n",
        "    \n",
        "    # Clean funder and bin\n",
        "    X['funder'] = X['funder'].str.lower()\n",
        "    X['funder'] = X['funder'].str[:3]\n",
        "    X['funder'].value_counts(normalize=True)\n",
        "    tops = X['funder'].value_counts()[:20].index\n",
        "    X.loc[~X['funder'].isin(tops), 'funder'] = 'Other'\n",
        "\n",
        "    # Use mean for gps_height missing values\n",
        "    X.loc[X['gps_height'] == 0, 'gps_height'] = X['gps_height'].mean()\n",
        "    \n",
        "    # Bin lga\n",
        "    tops = X['lga'].value_counts()[:10].index\n",
        "    X.loc[~X['lga'].isin(tops), 'lga'] = 'Other'\n",
        "\n",
        "    # Bin ward \n",
        "    tops = X['ward'].value_counts()[:bins].index\n",
        "    X.loc[~X['ward'].isin(tops), 'ward'] = 'Other'\n",
        "    \n",
        "    # Bin subvillage\n",
        "    tops = X_train['subvillage'].value_counts()[:10].index\n",
        "    X_train.loc[~X_train['subvillage'].isin(tops), 'subvillage'] = 'Other'\n",
        "\n",
        "    # Clean latitude and longitude\n",
        "    average_lat = X.groupby('region').latitude.mean().reset_index()\n",
        "    average_long = X.groupby('region').longitude.mean().reset_index()\n",
        "\n",
        "    shinyanga_lat = average_lat.loc[average_lat['region'] == 'Shinyanga', 'latitude']\n",
        "    shinyanga_long = average_long.loc[average_lat['region'] == 'Shinyanga', 'longitude']\n",
        "\n",
        "    X.loc[(X['region'] == 'Shinyanga') & (X['latitude'] > -1), ['latitude']] = shinyanga_lat[17]\n",
        "    X.loc[(X['region'] == 'Shinyanga') & (X['longitude'] == 0), ['longitude']] = shinyanga_long[17]\n",
        "\n",
        "    mwanza_lat = average_lat.loc[average_lat['region'] == 'Mwanza', 'latitude']\n",
        "    mwanza_long = average_long.loc[average_lat['region'] == 'Mwanza', 'longitude']\n",
        "\n",
        "    X.loc[(X['region'] == 'Mwanza') & (X['latitude'] > -1), ['latitude']] = mwanza_lat[13]\n",
        "    X.loc[(X['region'] == 'Mwanza') & (X['longitude'] == 0) , ['longitude']] = mwanza_long[13]\n",
        "    \n",
        "    # Impute mean for tsh based on mean of source_class/basin/waterpoint_type_group\n",
        "    def tsh_calc(tsh, source, base, waterpoint):\n",
        "      if tsh == 0:\n",
        "        if (source, base, waterpoint) in tsh_dict:\n",
        "          new_tsh = tsh_dict[source, base, waterpoint]\n",
        "          return new_tsh\n",
        "      else:\n",
        "        return tsh\n",
        "      return tsh\n",
        "  \n",
        "    temp = X[X['amount_tsh'] != 0].groupby(['source_class',\n",
        "                                            'basin',\n",
        "                                            'waterpoint_type_group'])['amount_tsh'].mean()\n",
        "\n",
        "    tsh_dict = dict(temp)\n",
        "    X['amount_tsh'] = X.apply(lambda x: tsh_calc(x['amount_tsh'], x['source_class'], x['basin'], x['waterpoint_type_group']), axis=1)\n",
        "\n",
        "    # Impute mean for the feature based on latitude and longitude\n",
        "    def latlong_conversion(feature, pop, long, lat):\n",
        "    \n",
        "      radius = 0.1\n",
        "      radius_increment = 0.3\n",
        "    \n",
        "      if pop <= 1:\n",
        "        pop_temp = pop\n",
        "        while pop_temp <= 1 and radius <= 2:\n",
        "          lat_from = lat - radius\n",
        "          lat_to = lat + radius\n",
        "          long_from = long - radius\n",
        "          long_to = long + radius\n",
        "        \n",
        "          df = X[(X['latitude'] >= lat_from) & \n",
        "                 (X['latitude'] <= lat_to) &\n",
        "                 (X['longitude'] >= long_from) &\n",
        "                 (X['longitude'] <= long_to)]\n",
        "        \n",
        "          pop_temp = df[feature].mean()\n",
        "          if math.isnan(pop_temp):\n",
        "            pop_temp = pop\n",
        "          radius = radius + radius_increment\n",
        "      else:\n",
        "        pop_temp = pop\n",
        "      \n",
        "      if pop_temp <= 1:\n",
        "        new_pop = X_train[feature].mean()\n",
        "      else:\n",
        "        new_pop = pop_temp\n",
        "        \n",
        "      return new_pop\n",
        "    \n",
        "    # Impute gps_height based on location\n",
        "    #X['population'] = X.apply(lambda x: latlong_conversion('population', x['gps_height'], x['longitude'], x['latitude']), axis=1)\n",
        "    \n",
        "    # Impute gps_height based on location\n",
        "    #X['gps_height'] = X.apply(lambda x: latlong_conversion('gps_height', x['gps_height'], x['longitude'], x['latitude']), axis=1)\n",
        "                  \n",
        "    # quantity & quantity_group are duplicates, so drop quantity_group\n",
        "    X = X.drop(columns='quantity_group')\n",
        "    X = X.drop(columns='num_private')\n",
        "    \n",
        "    # return the wrangled dataframe\n",
        "    return X\n"
      ],
      "execution_count": 0,
      "outputs": []
    },
    {
      "cell_type": "code",
      "metadata": {
        "id": "BseDmCdj5Cx4",
        "colab_type": "code",
        "outputId": "ca86bc38-4c3c-4bb7-e7bb-3ae89aeef0e8",
        "colab": {
          "base_uri": "https://localhost:8080/",
          "height": 179
        }
      },
      "source": [
        "# Wrangle the data\n",
        "X_train = wrangle(X_train)\n",
        "X_val = wrangle(X_val)"
      ],
      "execution_count": 98,
      "outputs": [
        {
          "output_type": "stream",
          "text": [
            "/usr/local/lib/python3.6/dist-packages/pandas/core/indexing.py:543: SettingWithCopyWarning: \n",
            "A value is trying to be set on a copy of a slice from a DataFrame.\n",
            "Try using .loc[row_indexer,col_indexer] = value instead\n",
            "\n",
            "See the caveats in the documentation: http://pandas.pydata.org/pandas-docs/stable/indexing.html#indexing-view-versus-copy\n",
            "  self.obj[item] = s\n"
          ],
          "name": "stderr"
        }
      ]
    },
    {
      "cell_type": "code",
      "metadata": {
        "id": "GRfrHKHsFnaL",
        "colab_type": "code",
        "colab": {}
      },
      "source": [
        "# Feature engineering\n",
        "def feature_engineer(X):\n",
        "  \n",
        "  # Create new feature pump_age\n",
        "  X['pump_age'] = 2013 - X['construction_year']\n",
        "  X.loc[X['pump_age'] == 2013, 'pump_age'] = 0\n",
        "  X.loc[X['pump_age'] == 0, 'pump_age'] = 10\n",
        "  \n",
        "  # Create new feature region_district\n",
        "  X['region_district'] = X['region_code'].astype(str) + X['district_code'].astype(str)\n",
        "\n",
        "  return X"
      ],
      "execution_count": 0,
      "outputs": []
    },
    {
      "cell_type": "code",
      "metadata": {
        "id": "ck8Q3F8oGw9b",
        "colab_type": "code",
        "colab": {}
      },
      "source": [
        "# Feature engineer the data\n",
        "X_train = feature_engineer(X_train)\n",
        "X_val = feature_engineer(X_val)"
      ],
      "execution_count": 0,
      "outputs": []
    },
    {
      "cell_type": "code",
      "metadata": {
        "id": "HOVA3GqdUC47",
        "colab_type": "code",
        "colab": {}
      },
      "source": [
        "# Encode a feature\n",
        "def encode_feature(X, y, str):\n",
        "  X['status_group'] = y\n",
        "  X.groupby(str)['status_group'].value_counts(normalize=True)\n",
        "  X['functional']= (X['status_group'] == 'functional').astype(int)\n",
        "  X[['status_group', 'functional']]\n",
        "  return X"
      ],
      "execution_count": 0,
      "outputs": []
    },
    {
      "cell_type": "code",
      "metadata": {
        "id": "mEfqrCtxWhiZ",
        "colab_type": "code",
        "colab": {}
      },
      "source": [
        "# Encode all the categorical features\n",
        "train = X_train.copy()\n",
        "train = encode_feature(train, y_train, 'quantity')\n",
        "train = encode_feature(train, y_train, 'waterpoint_type')\n",
        "train = encode_feature(train, y_train, 'extraction_type')\n",
        "train = encode_feature(train, y_train, 'installer')\n",
        "train = encode_feature(train, y_train, 'funder')\n",
        "train = encode_feature(train, y_train, 'water_quality')\n",
        "train = encode_feature(train, y_train, 'basin')\n",
        "train = encode_feature(train, y_train, 'region')\n",
        "train = encode_feature(train, y_train, 'payment')\n",
        "train = encode_feature(train, y_train, 'source')\n",
        "train = encode_feature(train, y_train, 'lga')\n",
        "train = encode_feature(train, y_train, 'ward')\n",
        "train = encode_feature(train, y_train, 'scheme_management')\n",
        "train = encode_feature(train, y_train, 'management')\n",
        "train = encode_feature(train, y_train, 'region_district')\n",
        "train = encode_feature(train, y_train, 'subvillage')"
      ],
      "execution_count": 0,
      "outputs": []
    },
    {
      "cell_type": "code",
      "metadata": {
        "id": "O8Y1U6xKHiGW",
        "colab_type": "code",
        "outputId": "2dc7494e-f1f6-4a1e-9e21-3bf1c1d51c31",
        "colab": {
          "base_uri": "https://localhost:8080/",
          "height": 165
        }
      },
      "source": [
        "# use quantity feature and the numerical features but drop id\n",
        "categorical_features = ['quantity', 'waterpoint_type', 'extraction_type', 'installer',\n",
        "                        'funder', 'water_quality', 'basin', 'region', 'payment', \n",
        "                        'source', 'lga', 'ward', 'scheme_management', 'management',\n",
        "                        'region_district', 'subvillage']\n",
        "                                              \n",
        "numeric_features = X_train.select_dtypes('number').columns.drop('id').tolist()\n",
        "features = categorical_features + numeric_features\n",
        "\n",
        "# make subsets using the quantity feature all numeric features except id\n",
        "X_train = X_train[features]\n",
        "X_val = X_val[features]\n",
        "\n",
        "# Create the logistic regression pipeline\n",
        "pipeline = make_pipeline (\n",
        "    ce.OneHotEncoder(use_cat_names=True),\n",
        "    StandardScaler(),\n",
        "    LogisticRegressionCV(random_state=42, n_jobs=-1)\n",
        ")\n",
        "\n",
        "pipeline.fit(X_train, y_train)\n",
        "\n",
        "print('Validation Accuracy', pipeline.score(X_val, y_val))         "
      ],
      "execution_count": 103,
      "outputs": [
        {
          "output_type": "stream",
          "text": [
            "/usr/local/lib/python3.6/dist-packages/sklearn/linear_model/logistic.py:469: FutureWarning: Default multi_class will be changed to 'auto' in 0.22. Specify the multi_class option to silence this warning.\n",
            "  \"this warning.\", FutureWarning)\n",
            "/usr/local/lib/python3.6/dist-packages/sklearn/model_selection/_split.py:1978: FutureWarning: The default value of cv will change from 3 to 5 in version 0.22. Specify it explicitly to silence this warning.\n",
            "  warnings.warn(CV_WARNING, FutureWarning)\n"
          ],
          "name": "stderr"
        },
        {
          "output_type": "stream",
          "text": [
            "Validation Accuracy 0.752104377104377\n"
          ],
          "name": "stdout"
        }
      ]
    },
    {
      "cell_type": "code",
      "metadata": {
        "id": "vq_J0c5GpPx3",
        "colab_type": "code",
        "outputId": "dcff1da1-2c7a-4bb8-e253-5aead29b3691",
        "colab": {
          "base_uri": "https://localhost:8080/",
          "height": 1000
        }
      },
      "source": [
        "# Create the random forest pipeline\n",
        "pipeline = make_pipeline (\n",
        "    ce.OneHotEncoder(use_cat_names=True),\n",
        "    StandardScaler(),\n",
        "    RandomForestClassifier(n_estimators=1000, \n",
        "                           random_state=42,\n",
        "                           min_samples_leaf=1,\n",
        "                           max_features = 'auto',\n",
        "                           n_jobs=-1,\n",
        "                           verbose = 1)\n",
        ")\n",
        "\n",
        "pipeline.fit(X_train, y_train)\n",
        "print ('\\n\\nResults for min_samples_leaf', i,)\n",
        "print('Validation Accuracy', pipeline.score(X_val, y_val))         \n"
      ],
      "execution_count": 107,
      "outputs": [
        {
          "output_type": "stream",
          "text": [
            "[Parallel(n_jobs=-1)]: Using backend ThreadingBackend with 4 concurrent workers.\n",
            "[Parallel(n_jobs=-1)]: Done  42 tasks      | elapsed:    3.4s\n",
            "[Parallel(n_jobs=-1)]: Done 192 tasks      | elapsed:   14.7s\n",
            "[Parallel(n_jobs=-1)]: Done 442 tasks      | elapsed:   33.8s\n",
            "[Parallel(n_jobs=-1)]: Done 792 tasks      | elapsed:  1.0min\n",
            "[Parallel(n_jobs=-1)]: Done 1000 out of 1000 | elapsed:  1.3min finished\n"
          ],
          "name": "stderr"
        },
        {
          "output_type": "stream",
          "text": [
            "\n",
            "\n",
            "Results for min_samples_leaf 1\n"
          ],
          "name": "stdout"
        },
        {
          "output_type": "stream",
          "text": [
            "[Parallel(n_jobs=4)]: Using backend ThreadingBackend with 4 concurrent workers.\n",
            "[Parallel(n_jobs=4)]: Done  42 tasks      | elapsed:    0.1s\n",
            "[Parallel(n_jobs=4)]: Done 192 tasks      | elapsed:    0.4s\n",
            "[Parallel(n_jobs=4)]: Done 442 tasks      | elapsed:    0.8s\n",
            "[Parallel(n_jobs=4)]: Done 792 tasks      | elapsed:    1.5s\n",
            "[Parallel(n_jobs=4)]: Done 1000 out of 1000 | elapsed:    1.8s finished\n"
          ],
          "name": "stderr"
        },
        {
          "output_type": "stream",
          "text": [
            "Validation Accuracy 0.8087542087542088\n"
          ],
          "name": "stdout"
        },
        {
          "output_type": "stream",
          "text": [
            "[Parallel(n_jobs=-1)]: Using backend ThreadingBackend with 4 concurrent workers.\n",
            "[Parallel(n_jobs=-1)]: Done  42 tasks      | elapsed:    2.5s\n",
            "[Parallel(n_jobs=-1)]: Done 192 tasks      | elapsed:   11.2s\n",
            "[Parallel(n_jobs=-1)]: Done 442 tasks      | elapsed:   25.8s\n",
            "[Parallel(n_jobs=-1)]: Done 792 tasks      | elapsed:   46.5s\n",
            "[Parallel(n_jobs=-1)]: Done 1000 out of 1000 | elapsed:   58.8s finished\n"
          ],
          "name": "stderr"
        },
        {
          "output_type": "stream",
          "text": [
            "\n",
            "\n",
            "Results for min_samples_leaf 2\n"
          ],
          "name": "stdout"
        },
        {
          "output_type": "stream",
          "text": [
            "[Parallel(n_jobs=4)]: Using backend ThreadingBackend with 4 concurrent workers.\n",
            "[Parallel(n_jobs=4)]: Done  42 tasks      | elapsed:    0.1s\n",
            "[Parallel(n_jobs=4)]: Done 192 tasks      | elapsed:    0.2s\n",
            "[Parallel(n_jobs=4)]: Done 442 tasks      | elapsed:    0.6s\n",
            "[Parallel(n_jobs=4)]: Done 792 tasks      | elapsed:    1.0s\n",
            "[Parallel(n_jobs=4)]: Done 1000 out of 1000 | elapsed:    1.2s finished\n"
          ],
          "name": "stderr"
        },
        {
          "output_type": "stream",
          "text": [
            "Validation Accuracy 0.8069023569023569\n"
          ],
          "name": "stdout"
        },
        {
          "output_type": "stream",
          "text": [
            "[Parallel(n_jobs=-1)]: Using backend ThreadingBackend with 4 concurrent workers.\n",
            "[Parallel(n_jobs=-1)]: Done  42 tasks      | elapsed:    2.3s\n",
            "[Parallel(n_jobs=-1)]: Done 192 tasks      | elapsed:   10.3s\n",
            "[Parallel(n_jobs=-1)]: Done 442 tasks      | elapsed:   23.8s\n",
            "[Parallel(n_jobs=-1)]: Done 792 tasks      | elapsed:   42.6s\n",
            "[Parallel(n_jobs=-1)]: Done 1000 out of 1000 | elapsed:   53.9s finished\n"
          ],
          "name": "stderr"
        },
        {
          "output_type": "stream",
          "text": [
            "\n",
            "\n",
            "Results for min_samples_leaf 3\n"
          ],
          "name": "stdout"
        },
        {
          "output_type": "stream",
          "text": [
            "[Parallel(n_jobs=4)]: Using backend ThreadingBackend with 4 concurrent workers.\n",
            "[Parallel(n_jobs=4)]: Done  42 tasks      | elapsed:    0.1s\n",
            "[Parallel(n_jobs=4)]: Done 192 tasks      | elapsed:    0.2s\n",
            "[Parallel(n_jobs=4)]: Done 442 tasks      | elapsed:    0.5s\n",
            "[Parallel(n_jobs=4)]: Done 792 tasks      | elapsed:    0.9s\n",
            "[Parallel(n_jobs=4)]: Done 1000 out of 1000 | elapsed:    1.2s finished\n"
          ],
          "name": "stderr"
        },
        {
          "output_type": "stream",
          "text": [
            "Validation Accuracy 0.8021043771043771\n"
          ],
          "name": "stdout"
        },
        {
          "output_type": "stream",
          "text": [
            "[Parallel(n_jobs=-1)]: Using backend ThreadingBackend with 4 concurrent workers.\n",
            "[Parallel(n_jobs=-1)]: Done  42 tasks      | elapsed:    2.2s\n",
            "[Parallel(n_jobs=-1)]: Done 192 tasks      | elapsed:    9.9s\n",
            "[Parallel(n_jobs=-1)]: Done 442 tasks      | elapsed:   22.6s\n",
            "[Parallel(n_jobs=-1)]: Done 792 tasks      | elapsed:   40.4s\n",
            "[Parallel(n_jobs=-1)]: Done 1000 out of 1000 | elapsed:   51.1s finished\n"
          ],
          "name": "stderr"
        },
        {
          "output_type": "stream",
          "text": [
            "\n",
            "\n",
            "Results for min_samples_leaf 4\n"
          ],
          "name": "stdout"
        },
        {
          "output_type": "stream",
          "text": [
            "[Parallel(n_jobs=4)]: Using backend ThreadingBackend with 4 concurrent workers.\n",
            "[Parallel(n_jobs=4)]: Done  42 tasks      | elapsed:    0.1s\n",
            "[Parallel(n_jobs=4)]: Done 192 tasks      | elapsed:    0.2s\n",
            "[Parallel(n_jobs=4)]: Done 442 tasks      | elapsed:    0.5s\n",
            "[Parallel(n_jobs=4)]: Done 792 tasks      | elapsed:    1.0s\n"
          ],
          "name": "stderr"
        },
        {
          "output_type": "stream",
          "text": [
            "Validation Accuracy 0.796043771043771\n"
          ],
          "name": "stdout"
        },
        {
          "output_type": "stream",
          "text": [
            "[Parallel(n_jobs=4)]: Done 1000 out of 1000 | elapsed:    1.2s finished\n"
          ],
          "name": "stderr"
        }
      ]
    },
    {
      "cell_type": "code",
      "metadata": {
        "id": "FCowPAYHaWnA",
        "colab_type": "code",
        "colab": {
          "base_uri": "https://localhost:8080/",
          "height": 1000
        },
        "outputId": "2d0a3db4-31d3-4a9f-c749-b1a20f603688"
      },
      "source": [
        "model = pipeline.named_steps['randomforestclassifier']\n",
        "encoder = pipeline.named_steps['onehotencoder']\n",
        "encoded_columns = encoder.transform(X_train).columns \n",
        "importances = pd.Series(model.feature_importances_, encoded_columns)\n",
        "importances.sort_values(ascending=False)"
      ],
      "execution_count": 111,
      "outputs": [
        {
          "output_type": "execute_result",
          "data": {
            "text/plain": [
              "quantity_dry                                   1.134608e-01\n",
              "longitude                                      5.177950e-02\n",
              "latitude                                       4.995780e-02\n",
              "waterpoint_type_other                          4.807356e-02\n",
              "extraction_type_other                          4.626214e-02\n",
              "quantity_enough                                3.951769e-02\n",
              "pump_age                                       3.836045e-02\n",
              "construction_year                              3.829147e-02\n",
              "gps_height                                     3.174301e-02\n",
              "amount_tsh                                     2.982806e-02\n",
              "population                                     2.284367e-02\n",
              "payment_never pay                              1.871568e-02\n",
              "region_code                                    1.741725e-02\n",
              "district_code                                  1.704562e-02\n",
              "waterpoint_type_communal standpipe             1.574882e-02\n",
              "quantity_insufficient                          1.437430e-02\n",
              "waterpoint_type_hand pump                      1.278605e-02\n",
              "extraction_type_gravity                        1.192252e-02\n",
              "waterpoint_type_communal standpipe multiple    1.017632e-02\n",
              "water_quality_unknown                          1.002044e-02\n",
              "extraction_type_nira/tanira                    8.888837e-03\n",
              "funder_Other                                   8.822478e-03\n",
              "funder_gov                                     8.608166e-03\n",
              "source_spring                                  8.156938e-03\n",
              "payment_unknown                                7.865943e-03\n",
              "management_vwc                                 7.622926e-03\n",
              "payment_pay per bucket                         7.496717e-03\n",
              "region_Iringa                                  7.419414e-03\n",
              "payment_pay monthly                            7.181280e-03\n",
              "source_shallow well                            7.169162e-03\n",
              "                                                   ...     \n",
              "region_district_23                             6.733454e-05\n",
              "region_district_6063                           6.626013e-05\n",
              "ward_Mdandu                                    6.561541e-05\n",
              "region_district_44                             6.532716e-05\n",
              "ward_Itete                                     6.410184e-05\n",
              "region_district_71                             6.229751e-05\n",
              "region_district_66                             6.099365e-05\n",
              "region_district_8062                           6.036489e-05\n",
              "subvillage_Mtakuja                             5.866069e-05\n",
              "region_district_104                            5.604654e-05\n",
              "region_district_36                             5.499268e-05\n",
              "extraction_type_climax                         5.467087e-05\n",
              "scheme_management_Trust                        5.321996e-05\n",
              "management_trust                               5.209592e-05\n",
              "ward_Kitunda                                   3.908133e-05\n",
              "subvillage_Muungano                            3.887543e-05\n",
              "extraction_type_walimi                         3.841965e-05\n",
              "subvillage_Mlimani                             3.685763e-05\n",
              "ward_Matola                                    3.650315e-05\n",
              "source_unknown                                 3.607646e-05\n",
              "region_district_10                             2.914702e-05\n",
              "region_district_164                            2.830002e-05\n",
              "subvillage_Mbuyuni                             2.013744e-05\n",
              "region_district_1780                           3.600542e-06\n",
              "water_quality_fluoride abandoned               5.809567e-07\n",
              "region_district_6067                           4.637857e-07\n",
              "waterpoint_type_dam                            0.000000e+00\n",
              "extraction_type_other - mkulima/shinyanga      0.000000e+00\n",
              "region_district_4043                           0.000000e+00\n",
              "scheme_management_None                         0.000000e+00\n",
              "Length: 319, dtype: float64"
            ]
          },
          "metadata": {
            "tags": []
          },
          "execution_count": 111
        }
      ]
    },
    {
      "cell_type": "code",
      "metadata": {
        "id": "fwZMpgC0GLX6",
        "colab_type": "code",
        "colab": {}
      },
      "source": [
        "test_features['pump_age'] = 2013 - test_features['construction_year']\n",
        "test_features.loc[test_features['pump_age'] == 2013, 'pump_age'] = 0\n",
        "test_features.loc[test_features['pump_age'] == 0, 'pump_age'] = 10\n",
        "  \n",
        "test_features['region_district'] = test_features['region_code'].astype(str) + test_features['district_code'].astype(str)\n",
        "\n",
        "test_features.drop(columns=['num_private'])\n",
        "\n",
        "X_test = test_features[features]\n",
        "\n",
        "assert all(X_test.columns == X_train.columns)\n",
        "\n",
        "y_pred = pipeline.predict(X_test)"
      ],
      "execution_count": 0,
      "outputs": []
    },
    {
      "cell_type": "code",
      "metadata": {
        "id": "6PQd-OKqGPT9",
        "colab_type": "code",
        "colab": {}
      },
      "source": [
        "#submission = sample_submission.copy()\n",
        "#submission['status_group'] = y_pred\n",
        "#submission.to_csv('/content/submission-01.csv', index=False)"
      ],
      "execution_count": 0,
      "outputs": []
    }
  ]
}